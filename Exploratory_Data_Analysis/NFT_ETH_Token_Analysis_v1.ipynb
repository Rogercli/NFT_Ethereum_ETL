{
 "cells": [
  {
   "cell_type": "code",
   "execution_count": 1,
   "source": [
    "import requests\n",
    "from pyspark.sql import SparkSession\n",
    "from pyspark.sql.functions import *\n",
    "from pyspark.sql.types import *\n",
    "import pyspark.sql.functions as F\n",
    "import time"
   ],
   "outputs": [],
   "metadata": {}
  },
  {
   "cell_type": "code",
   "execution_count": 2,
   "source": [
    "spark = SparkSession.builder.master('local[*]').appName('Opensea_transformation').getOrCreate()\n",
    "json_paths='/home/roger/SB/Capstone/NFT_ETH_pipeline/Data/Raw/'\n",
    "json_lst=[json_paths+'Cryptopunks',\n",
    "    json_paths+'Bored_apes',\n",
    "    json_paths+'Cool_cats',\n",
    "    json_paths+'Meebits',\n",
    "    json_paths+'Doodles',\n",
    "]"
   ],
   "outputs": [],
   "metadata": {}
  },
  {
   "cell_type": "code",
   "execution_count": 7,
   "source": [
    "df = spark.read.json('/home/roger/SB/Capstone/Open_capstone_git/data/CryptoPunks')         \n",
    "df.show(1)  "
   ],
   "outputs": [
    {
     "output_type": "stream",
     "name": "stdout",
     "text": [
      "+----------------------+-------------+--------------------+----------------+--------------------+--------------------+--------+-----------+--------------------+------+--------------------+--------------------+--------------------+--------------------+----------+--------------------+------------+----------------+---------+--------------------+--------------------+-----------+--------+--------------+-------+--------------------+------------+--------------------------+\n",
      "|animation_original_url|animation_url|      asset_contract|background_color|          collection|             creator|decimals|description|       external_link|    id|  image_original_url|   image_preview_url| image_thumbnail_url|           image_url|is_presale|           last_sale|listing_date|            name|num_sales|               owner|           permalink|sell_orders|token_id|token_metadata|top_bid|              traits|transfer_fee|transfer_fee_payment_token|\n",
      "+----------------------+-------------+--------------------+----------------+--------------------+--------------------+--------+-----------+--------------------+------+--------------------+--------------------+--------------------+--------------------+----------+--------------------+------------+----------------+---------+--------------------+--------------------+-----------+--------+--------------+-------+--------------------+------------+--------------------------+\n",
      "|                  null|         null|{0xb47e3cd837ddf8...|            null|{https://lh3.goog...|{0xc352b534e8b987...|    null|       null|https://www.larva...|178240|https://www.larva...|https://lh3.googl...|https://lh3.googl...|https://lh3.googl...|     false|{{null, 9998}, nu...|        null|CryptoPunk #9998|        4|{0xef764bac8a438e...|https://opensea.i...|       null|    9998|              |   null|[{null, null, nul...|        null|                      null|\n",
      "+----------------------+-------------+--------------------+----------------+--------------------+--------------------+--------+-----------+--------------------+------+--------------------+--------------------+--------------------+--------------------+----------+--------------------+------------+----------------+---------+--------------------+--------------------+-----------+--------+--------------+-------+--------------------+------------+--------------------------+\n",
      "only showing top 1 row\n",
      "\n"
     ]
    }
   ],
   "metadata": {}
  },
  {
   "cell_type": "code",
   "execution_count": 8,
   "source": [
    "df = spark.read.json(json_lst)         "
   ],
   "outputs": [],
   "metadata": {}
  },
  {
   "cell_type": "code",
   "execution_count": 9,
   "source": [
    "df1=df.select(\n",
    "    df['asset_contract']['name'].alias('NFT'),\\\n",
    "    df['token_id'],\\\n",
    "    df['num_sales'],\\\n",
    "    df['owner']['user']['username'].alias('username'),\\\n",
    "    df['owner']['address'].alias('owner_address'),\\\n",
    "    to_timestamp(df['last_sale']['event_timestamp']).alias('txn_date'),\\\n",
    "    (df['last_sale']['total_price']/10**18).alias('payment_amt'),\\\n",
    "    df['last_sale']['payment_token']['symbol'].alias('payment_type'))"
   ],
   "outputs": [],
   "metadata": {}
  },
  {
   "cell_type": "code",
   "execution_count": 10,
   "source": [
    "df1.show()"
   ],
   "outputs": [
    {
     "output_type": "stream",
     "name": "stdout",
     "text": [
      "+---------+--------+---------+-------------+--------------------+-------------------+-----------+------------+\n",
      "|      NFT|token_id|num_sales|     username|       owner_address|           txn_date|payment_amt|payment_type|\n",
      "+---------+--------+---------+-------------+--------------------+-------------------+-----------+------------+\n",
      "|Cool Cats|    1490|        1| dontbotherme|0x762b35b809ac426...|2021-10-05 01:44:29|      320.0|         ETH|\n",
      "|Cool Cats|    3330|        1|   CoinUnited|0x4c4a5490deefefa...|2021-08-20 00:45:13|      110.0|         ETH|\n",
      "|Cool Cats|    5635|        3|         null|0xe13756351f9cbc4...|2021-10-07 14:48:23|       99.0|         ETH|\n",
      "|Cool Cats|    8624|        2|FriendlyDegen|0x2f5170deea82309...|2021-10-08 02:33:07|       83.0|        WETH|\n",
      "|Cool Cats|    5280|        1|    SighVault|0xf5a9288eb6e86a3...|2021-08-07 17:52:48|       80.0|         ETH|\n",
      "|Cool Cats|    2157|        3|  MR_CC_VAULT|0x9edf9b08406fa69...|2021-09-26 15:01:20|       77.0|         ETH|\n",
      "|Cool Cats|    8875|        4|0xErnestVault|0xdb6d9af38ecadaf...|2021-08-28 17:17:38|       75.0|         ETH|\n",
      "|Cool Cats|    4695|        1|   MetalMario|0xad8357353ddf809...|2021-08-01 16:38:00|       75.0|         ETH|\n",
      "|Cool Cats|    3271|        2|Driftershoots|0x9dbe56e65961146...|2021-10-06 18:26:08|      69.69|         ETH|\n",
      "|Cool Cats|    8344|        2|  MR_CC_VAULT|0x9edf9b08406fa69...|2021-08-24 21:55:00|      69.42|         ETH|\n",
      "|Cool Cats|    7310|        3|  MR_CC_VAULT|0x9edf9b08406fa69...|2021-09-26 15:01:20|       64.0|         ETH|\n",
      "|Cool Cats|    3419|        1|Driftershoots|0x9dbe56e65961146...|2021-10-06 18:24:17|       60.0|         ETH|\n",
      "|Cool Cats|    7807|        3|Derrick_Vault|0xc96d32f17fa385d...|2021-09-26 15:14:46|       59.0|         ETH|\n",
      "|Cool Cats|    5175|        4|Driftershoots|0x9dbe56e65961146...|2021-10-06 18:22:39|       57.5|         ETH|\n",
      "|Cool Cats|    3514|        2|   yandao_dao|0x3adc1e9b6c09c1f...|2021-10-06 18:32:38|       54.0|         ETH|\n",
      "|Cool Cats|    5411|        3|   yandao_dao|0x3adc1e9b6c09c1f...|2021-09-26 08:12:31|       51.0|         ETH|\n",
      "|Cool Cats|    6325|        2|     sunsetpl|0xf224837e13b1a74...|2022-01-10 15:38:58|       50.0|        WETH|\n",
      "|Cool Cats|    7111|        2|  MetaNovaInc|0x3c4882d561cbed5...|2021-09-26 18:56:29|       50.0|         ETH|\n",
      "|Cool Cats|    3155|        5|        Daxon|0x13812fc2e57d690...|2021-10-05 04:44:22|       48.0|         ETH|\n",
      "|Cool Cats|    1193|        2|         null|0x904778b44bd12a1...|2022-01-02 22:54:39|       46.9|         ETH|\n",
      "+---------+--------+---------+-------------+--------------------+-------------------+-----------+------------+\n",
      "only showing top 20 rows\n",
      "\n"
     ]
    }
   ],
   "metadata": {}
  },
  {
   "cell_type": "code",
   "execution_count": 11,
   "source": [
    "df1.printSchema()"
   ],
   "outputs": [
    {
     "output_type": "stream",
     "name": "stdout",
     "text": [
      "root\n",
      " |-- NFT: string (nullable = true)\n",
      " |-- token_id: string (nullable = true)\n",
      " |-- num_sales: long (nullable = true)\n",
      " |-- username: string (nullable = true)\n",
      " |-- owner_address: string (nullable = true)\n",
      " |-- txn_date: timestamp (nullable = true)\n",
      " |-- payment_amt: double (nullable = true)\n",
      " |-- payment_type: string (nullable = true)\n",
      "\n"
     ]
    }
   ],
   "metadata": {}
  },
  {
   "cell_type": "code",
   "execution_count": 10,
   "source": [
    "reference_df=df1.select(\n",
    "    df1['NFT'],\\\n",
    "    df1['owner_address'],\\\n",
    "    df1['txn_date']).cache()\n"
   ],
   "outputs": [],
   "metadata": {}
  },
  {
   "cell_type": "markdown",
   "source": [
    "CryptoCompare Historical USD Data"
   ],
   "metadata": {}
  },
  {
   "cell_type": "code",
   "execution_count": 11,
   "source": [
    "# converting to UNIX timestamp in order to make API calls for USD historical price\n",
    "unix_df=reference_df.select(reference_df['NFT'],reference_df['txn_date']).withColumn('unix',unix_timestamp(reference_df['txn_date']))\n",
    "unix_df.show()"
   ],
   "outputs": [
    {
     "output_type": "stream",
     "name": "stdout",
     "text": [
      "+---------+-------------------+----------+\n",
      "|      NFT|           txn_date|      unix|\n",
      "+---------+-------------------+----------+\n",
      "|Cool Cats|2021-10-05 01:44:29|1633423469|\n",
      "|Cool Cats|2021-08-20 00:45:13|1629445513|\n",
      "|Cool Cats|2021-10-07 14:48:23|1633643303|\n",
      "|Cool Cats|2021-10-08 02:33:07|1633685587|\n",
      "|Cool Cats|2021-08-07 17:52:48|1628383968|\n",
      "|Cool Cats|2021-09-26 15:01:20|1632693680|\n",
      "|Cool Cats|2021-08-28 17:17:38|1630196258|\n",
      "|Cool Cats|2021-08-01 16:38:00|1627861080|\n",
      "|Cool Cats|2021-10-06 18:26:08|1633569968|\n",
      "|Cool Cats|2021-08-24 21:55:00|1629867300|\n",
      "|Cool Cats|2021-09-26 15:01:20|1632693680|\n",
      "|Cool Cats|2021-10-06 18:24:17|1633569857|\n",
      "|Cool Cats|2021-09-26 15:14:46|1632694486|\n",
      "|Cool Cats|2021-10-06 18:22:39|1633569759|\n",
      "|Cool Cats|2021-10-06 18:32:38|1633570358|\n",
      "|Cool Cats|2021-09-26 08:12:31|1632669151|\n",
      "|Cool Cats|2022-01-10 15:38:58|1641857938|\n",
      "|Cool Cats|2021-09-26 18:56:29|1632707789|\n",
      "|Cool Cats|2021-10-05 04:44:22|1633434262|\n",
      "|Cool Cats|2022-01-02 22:54:39|1641192879|\n",
      "+---------+-------------------+----------+\n",
      "only showing top 20 rows\n",
      "\n"
     ]
    }
   ],
   "metadata": {}
  },
  {
   "cell_type": "code",
   "execution_count": 13,
   "source": [
    "def usd_convert(unix):\n",
    "    cryptocompare_url=f'https://min-api.cryptocompare.com/data/pricehistorical?fsym=ETH&tsyms=USD&ts={unix}'\n",
    "    cryptocompare_api_key='your-api-key'\n",
    "    limit_exceeded=True\n",
    "    while limit_exceeded==True:\n",
    "        response=requests.get(cryptocompare_url,params={'api_key':cryptocompare_api_key})\n",
    "        message=response.json()\n",
    "        if message['ETH']:\n",
    "            limit_exceeded=False\n",
    "            return message['ETH']['USD']\n",
    "        else:\n",
    "            time.sleep(0.5)\n",
    "            continue\n",
    "\n",
    "dollar_udf=udf(lambda x : usd_convert(x))\n",
    "dollar_df=unix_df.withColumn('usd_rate',dollar_udf(unix_df['unix'])).drop(unix_df['unix']).cache()\n",
    "\n",
    "dollar_df.show()   \n"
   ],
   "outputs": [
    {
     "output_type": "stream",
     "name": "stdout",
     "text": [
      "+---------+-------------------+--------+\n",
      "|      NFT|           txn_date|usd_rate|\n",
      "+---------+-------------------+--------+\n",
      "|Cool Cats|2021-10-05 01:44:29| 3516.09|\n",
      "|Cool Cats|2021-08-20 00:45:13|  3286.5|\n",
      "|Cool Cats|2021-10-07 14:48:23| 3588.12|\n",
      "|Cool Cats|2021-10-08 02:33:07| 3562.84|\n",
      "|Cool Cats|2021-08-07 17:52:48| 3013.75|\n",
      "|Cool Cats|2021-09-26 15:01:20| 3064.21|\n",
      "|Cool Cats|2021-08-28 17:17:38|  3225.3|\n",
      "|Cool Cats|2021-08-01 16:38:00| 2556.41|\n",
      "|Cool Cats|2021-10-06 18:26:08| 3588.12|\n",
      "|Cool Cats|2021-08-24 21:55:00| 3228.86|\n",
      "|Cool Cats|2021-09-26 15:01:20| 3064.21|\n",
      "|Cool Cats|2021-10-06 18:24:17| 3588.12|\n",
      "|Cool Cats|2021-09-26 15:14:46| 3064.21|\n",
      "|Cool Cats|2021-10-06 18:22:39| 3588.12|\n",
      "|Cool Cats|2021-10-06 18:32:38| 3588.12|\n",
      "|Cool Cats|2021-09-26 08:12:31| 3064.21|\n",
      "|Cool Cats|2022-01-10 15:38:58| 3083.68|\n",
      "|Cool Cats|2021-09-26 18:56:29| 2927.73|\n",
      "|Cool Cats|2021-10-05 04:44:22| 3516.09|\n",
      "|Cool Cats|2022-01-02 22:54:39| 3765.16|\n",
      "+---------+-------------------+--------+\n",
      "only showing top 20 rows\n",
      "\n"
     ]
    }
   ],
   "metadata": {}
  },
  {
   "cell_type": "markdown",
   "source": [
    "Etherscan API Ethereum and Token Data"
   ],
   "metadata": {}
  },
  {
   "cell_type": "code",
   "execution_count": 12,
   "source": [
    "eth_addr_df=reference_df.select(reference_df['NFT'],reference_df['owner_address']).dropDuplicates()\n",
    "eth_addr_df.show()"
   ],
   "outputs": [
    {
     "output_type": "stream",
     "name": "stdout",
     "text": [
      "+---------+--------------------+\n",
      "|      NFT|       owner_address|\n",
      "+---------+--------------------+\n",
      "|Cool Cats|0x8488f78d943cf6b...|\n",
      "|Cool Cats|0x4005fbb366198c3...|\n",
      "|Cool Cats|0xdb6d9af38ecadaf...|\n",
      "|Cool Cats|0x40c839b831c9017...|\n",
      "|Cool Cats|0x34978faf3a9f469...|\n",
      "|Cool Cats|0xc96d32f17fa385d...|\n",
      "|Cool Cats|0xcc93935c431cafc...|\n",
      "|Cool Cats|0x32ae912d4abfde3...|\n",
      "|Cool Cats|0xe7fa846ad3d12d8...|\n",
      "|Cool Cats|0x7499c6c5d844fca...|\n",
      "|Cool Cats|0x9edf9b08406fa69...|\n",
      "|Cool Cats|0xad8357353ddf809...|\n",
      "|Cool Cats|0x3adc1e9b6c09c1f...|\n",
      "|Cool Cats|0x2d8d75d4ba64efd...|\n",
      "|Cool Cats|0x9dbe56e65961146...|\n",
      "|Cool Cats|0xffa914c83d851b9...|\n",
      "|Cool Cats|0x2f5170deea82309...|\n",
      "|Cool Cats|0x904778b44bd12a1...|\n",
      "|Cool Cats|0x65de7da4eba5ed2...|\n",
      "|Cool Cats|0xabf107de3e01c7c...|\n",
      "+---------+--------------------+\n",
      "only showing top 20 rows\n",
      "\n"
     ]
    }
   ],
   "metadata": {}
  },
  {
   "cell_type": "code",
   "execution_count": 15,
   "source": [
    "def eth_balance(eth_address):\n",
    "    etherscan_url='https://api.etherscan.io/api?'\n",
    "    eth_api_key='your-api-key'\n",
    "    param={'ETH_balance':{'module':'account','action':'balance','address':eth_address,'tag':'latest','apikey':eth_api_key}}\n",
    "    \n",
    "    limit_exceeded=True\n",
    "    while limit_exceeded==True:\n",
    "        response=requests.get(etherscan_url,params=param['ETH_balance'])\n",
    "        message=response.json()\n",
    "        if message['result']=='Max rate limit reached':\n",
    "            time.sleep(0.5)\n",
    "            continue\n",
    "        else:\n",
    "            limit_exceeded=False\n",
    "            return message['result']\n",
    "\n",
    "eth_udf=udf(lambda x : eth_balance(x))\n",
    "eth_balance_df=eth_addr_df.withColumn('ETH',eth_udf(eth_addr_df['owner_address'])).cache()\n",
    "eth_balance_df.show()"
   ],
   "outputs": [
    {
     "output_type": "stream",
     "name": "stdout",
     "text": [
      "+-----------------+--------------------+--------------------+\n",
      "|              NFT|       owner_address|                 ETH|\n",
      "+-----------------+--------------------+--------------------+\n",
      "|          Doodles|0xb0b22713b38adda...|   52784437803114463|\n",
      "|      CryptoPunks|0x3b93cbfb99560ab...| 5022092324248575523|\n",
      "|        Cool Cats|0x8488f78d943cf6b...| 6766267005198920729|\n",
      "|        Cool Cats|0x4005fbb366198c3...|  361024938408471476|\n",
      "|        Cool Cats|0xdb6d9af38ecadaf...|  468300529000000000|\n",
      "|          Doodles|0xb5696e4057b9ba7...|  280763976745993296|\n",
      "|      CryptoPunks|0x9c5083dd4838e12...|18546569427421342...|\n",
      "|          Doodles|0xb4460bdf3fe5ba4...|10122542808237598484|\n",
      "|        Cool Cats|0x40c839b831c9017...|45096293962530705030|\n",
      "|BoredApeYachtClub|0x7eb413211a9de1c...| 1855774974803236227|\n",
      "|        Cool Cats|0x34978faf3a9f469...| 8836151672031266571|\n",
      "|      CryptoPunks|0x266892ed0d40ea5...|                   0|\n",
      "|          Doodles|0xc35f3f92a9f27a1...| 4273770677697573350|\n",
      "|      CryptoPunks|0xfb5251bf63e2382...|25993290151000000000|\n",
      "|        Cool Cats|0xc96d32f17fa385d...|66676248999501178999|\n",
      "|      CryptoPunks|0xce90a7949bb7889...|  305870277889477237|\n",
      "|          Doodles|0xb3b1d2405f16afc...| 5182552371491465953|\n",
      "|          Doodles|0x4b4c13434aac5e9...|  650909965501022752|\n",
      "|        Cool Cats|0xcc93935c431cafc...|   90000000000000000|\n",
      "|BoredApeYachtClub|0x14ae8100ea85a11...|93835431901264481462|\n",
      "+-----------------+--------------------+--------------------+\n",
      "only showing top 20 rows\n",
      "\n"
     ]
    }
   ],
   "metadata": {}
  },
  {
   "cell_type": "code",
   "execution_count": 16,
   "source": [
    "\n",
    "def token_balance(eth_address):\n",
    "    etherscan_url='https://api.etherscan.io/api?'\n",
    "    eth_api_key='your-api-key'\n",
    "    token_dict={\n",
    "    'Wrapped_eth':'0xc02aaa39b223fe8d0a0e5c4f27ead9083c756cc2',\n",
    "    'Tether':'0xdac17f958d2ee523a2206206994597c13d831ec7',\n",
    "    'Usdc':'0xa0b86991c6218b36c1d19d4a2e9eb0ce3606eb48',\n",
    "    'Dai':'0x6b175474e89094c44da98b954eedeac495271d0f',}\n",
    "    new_dict={}\n",
    "    for i in token_dict.keys():\n",
    "        param={'token_balance':{'module':'account','action':'tokenbalance','contractaddress':token_dict[i],'address':eth_address,'tag':'latest','apikey':eth_api_key}}\n",
    "        limit_exceeded=True\n",
    "        while limit_exceeded==True:\n",
    "            response=requests.get(etherscan_url,params=param['token_balance'])\n",
    "            message=response.json()\n",
    "            if message['result']=='Max rate limit reached':\n",
    "                time.sleep(0.5)\n",
    "                continue\n",
    "            else:\n",
    "                limit_exceeded=False\n",
    "                new_dict[i]=message['result']\n",
    "        \n",
    "    return new_dict\n",
    "\n",
    "\n",
    "token_udf=udf(lambda x : token_balance(x),MapType(StringType(),StringType()))\n",
    "token_balance_df=eth_balance_df.withColumn('token_balance',token_udf(eth_balance_df['owner_address'])).cache()\n",
    "token_balance_df.show()"
   ],
   "outputs": [
    {
     "output_type": "stream",
     "name": "stdout",
     "text": [
      "+-----------------+--------------------+--------------------+--------------------+\n",
      "|              NFT|       owner_address|                 ETH|       token_balance|\n",
      "+-----------------+--------------------+--------------------+--------------------+\n",
      "|          Doodles|0xb0b22713b38adda...|   52784437803114463|{Usdc -> 0, Dai -...|\n",
      "|      CryptoPunks|0x3b93cbfb99560ab...| 5022092324248575523|{Usdc -> 55748400...|\n",
      "|        Cool Cats|0x8488f78d943cf6b...| 6766267005198920729|{Usdc -> 98985258...|\n",
      "|        Cool Cats|0x4005fbb366198c3...|  361024938408471476|{Usdc -> 0, Dai -...|\n",
      "|        Cool Cats|0xdb6d9af38ecadaf...|  468300529000000000|{Usdc -> 0, Dai -...|\n",
      "|          Doodles|0xb5696e4057b9ba7...|  280763976745993296|{Usdc -> 0, Dai -...|\n",
      "|      CryptoPunks|0x9c5083dd4838e12...|18546569427421342...|{Usdc -> 14412232...|\n",
      "|          Doodles|0xb4460bdf3fe5ba4...|10122542808237598484|{Usdc -> 0, Dai -...|\n",
      "|        Cool Cats|0x40c839b831c9017...|45096293962530705030|{Usdc -> 30000000...|\n",
      "|BoredApeYachtClub|0x7eb413211a9de1c...| 1855774974803236227|{Usdc -> 0, Dai -...|\n",
      "|        Cool Cats|0x34978faf3a9f469...| 8836151672031266571|{Usdc -> 86358188...|\n",
      "|      CryptoPunks|0x266892ed0d40ea5...|                   0|{Usdc -> 0, Dai -...|\n",
      "|          Doodles|0xc35f3f92a9f27a1...| 4273770677697573350|{Usdc -> 862499, ...|\n",
      "|      CryptoPunks|0xfb5251bf63e2382...|25993290151000000000|{Usdc -> 0, Dai -...|\n",
      "|        Cool Cats|0xc96d32f17fa385d...|66676248999501178999|{Usdc -> 0, Dai -...|\n",
      "|      CryptoPunks|0xce90a7949bb7889...|  305870277889477237|{Usdc -> 94769536...|\n",
      "|          Doodles|0xb3b1d2405f16afc...| 5182552371491465953|{Usdc -> 0, Dai -...|\n",
      "|          Doodles|0x4b4c13434aac5e9...|  650909965501022752|{Usdc -> 0, Dai -...|\n",
      "|        Cool Cats|0xcc93935c431cafc...|   90000000000000000|{Usdc -> 0, Dai -...|\n",
      "|BoredApeYachtClub|0x14ae8100ea85a11...|93835431901264481462|{Usdc -> 43537999...|\n",
      "+-----------------+--------------------+--------------------+--------------------+\n",
      "only showing top 20 rows\n",
      "\n"
     ]
    }
   ],
   "metadata": {}
  },
  {
   "cell_type": "code",
   "execution_count": 18,
   "source": [
    "total_balance_df=token_balance_df.select(\\\n",
    "    token_balance_df['NFT'],\\\n",
    "    token_balance_df['owner_address'],\\\n",
    "    format_number((token_balance_df['ETH'].cast(FloatType())/10**18),2).alias('ETH'),\\\n",
    "    format_number(token_balance_df['token_balance']['Wrapped_eth'].cast(FloatType())/10**18,2).alias('Wrapped_ETH'),\\\n",
    "    format_number(token_balance_df['token_balance']['Dai'].cast(FloatType())/10**18,2).alias('DAI'),\\\n",
    "    format_number(token_balance_df['token_balance']['Usdc'].cast(FloatType())/10**6,2).alias('USDC'),\\\n",
    "    format_number(token_balance_df['token_balance']['Tether'].cast(FloatType())/10**6,2).alias('Tether')\n",
    "    ).cache()\n",
    "\n",
    "\n",
    "total_balance_df.show()\n"
   ],
   "outputs": [
    {
     "output_type": "stream",
     "name": "stdout",
     "text": [
      "+-----------------+--------------------+------+-----------+-----+---------+---------+\n",
      "|              NFT|       owner_address|   ETH|Wrapped_ETH|  DAI|     USDC|   Tether|\n",
      "+-----------------+--------------------+------+-----------+-----+---------+---------+\n",
      "|          Doodles|0xb0b22713b38adda...|  0.05|       0.00| 0.00|     0.00|     0.00|\n",
      "|      CryptoPunks|0x3b93cbfb99560ab...|  5.02|       0.00| 0.00|55,748.40|     0.00|\n",
      "|        Cool Cats|0x8488f78d943cf6b...|  6.77|       7.35| 0.00|98,985.25|     0.00|\n",
      "|        Cool Cats|0x4005fbb366198c3...|  0.36|       0.00| 0.00|     0.00|     0.00|\n",
      "|        Cool Cats|0xdb6d9af38ecadaf...|  0.47|       0.00| 0.00|     0.00|     0.00|\n",
      "|          Doodles|0xb5696e4057b9ba7...|  0.28|       0.00| 0.00|     0.00|     0.00|\n",
      "|      CryptoPunks|0x9c5083dd4838e12...|185.47|       0.00| 0.00|14,412.23|     0.00|\n",
      "|          Doodles|0xb4460bdf3fe5ba4...| 10.12|       0.00| 0.00|     0.00|     0.00|\n",
      "|        Cool Cats|0x40c839b831c9017...| 45.10|       1.26| 0.00|30,000.00|12,250.00|\n",
      "|BoredApeYachtClub|0x7eb413211a9de1c...|  1.86|       0.00| 0.00|     0.00|     0.00|\n",
      "|        Cool Cats|0x34978faf3a9f469...|  8.84|       0.00| 0.00|   863.58|     0.00|\n",
      "|      CryptoPunks|0x266892ed0d40ea5...|  0.00|       0.00| 0.00|     0.00|     0.00|\n",
      "|          Doodles|0xc35f3f92a9f27a1...|  4.27|       0.00| 0.00|     0.86|     0.00|\n",
      "|      CryptoPunks|0xfb5251bf63e2382...| 25.99|       0.00| 0.00|     0.00|     0.00|\n",
      "|        Cool Cats|0xc96d32f17fa385d...| 66.68|       0.00| 0.00|     0.00|     0.00|\n",
      "|      CryptoPunks|0xce90a7949bb7889...|  0.31|       0.00| 0.00| 9,476.95|     0.00|\n",
      "|          Doodles|0xb3b1d2405f16afc...|  5.18|       0.00| 0.00|     0.00|     0.00|\n",
      "|          Doodles|0x4b4c13434aac5e9...|  0.65|       0.00| 0.00|     0.00|     0.00|\n",
      "|        Cool Cats|0xcc93935c431cafc...|  0.09|       0.00| 0.00|     0.00|     0.00|\n",
      "|BoredApeYachtClub|0x14ae8100ea85a11...| 93.84|       0.00|76.48|   435.38|     0.00|\n",
      "+-----------------+--------------------+------+-----------+-----+---------+---------+\n",
      "only showing top 20 rows\n",
      "\n"
     ]
    }
   ],
   "metadata": {}
  }
 ],
 "metadata": {
  "orig_nbformat": 4,
  "language_info": {
   "name": "python",
   "version": "3.8.8",
   "mimetype": "text/x-python",
   "codemirror_mode": {
    "name": "ipython",
    "version": 3
   },
   "pygments_lexer": "ipython3",
   "nbconvert_exporter": "python",
   "file_extension": ".py"
  },
  "kernelspec": {
   "name": "python3",
   "display_name": "Python 3.8.8 64-bit ('base': conda)"
  },
  "interpreter": {
   "hash": "130677d53f9d9c005597b4a5ffdfc05a13adc24155f87011c93166abe676c0fb"
  }
 },
 "nbformat": 4,
 "nbformat_minor": 2
}