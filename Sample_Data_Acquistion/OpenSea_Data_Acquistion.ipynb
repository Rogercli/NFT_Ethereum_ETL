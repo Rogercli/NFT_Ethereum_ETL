{
 "cells": [
  {
   "cell_type": "code",
   "execution_count": 2,
   "source": [
    "from API_configs import nft_assets_url,nft_address\n",
    "import requests\n",
    "from requests.exceptions import HTTPError\n",
    "import json\n",
    "import requests"
   ],
   "outputs": [],
   "metadata": {}
  },
  {
   "cell_type": "code",
   "execution_count": 37,
   "source": [
    "nft_address={'Cryptopunks':'0xb47e3cd837ddf8e4c57f05d70ab865de6e193bbb',\\\n",
    "                    'Bored_apes':'0xBC4CA0EdA7647A8aB7C2061c2E118A18a936f13D',\\\n",
    "                    'Cool_cats':'0x1a92f7381b9f03921564a437210bb9396471050c',\\\n",
    "                    'Meebits':'0x7Bd29408f11D2bFC23c34f18275bBf23bB716Bc7',\\\n",
    "                    'Doodles':'0x8a90CAb2b38dba80c64b7734e58Ee1dB38B8992e'}\n"
   ],
   "outputs": [],
   "metadata": {}
  },
  {
   "cell_type": "code",
   "execution_count": 34,
   "source": [
    "def Opensea_NFT_call(nft):\n",
    "    try:\n",
    "        response=requests.get(nft_assets_url,params={'asset_contract_addresses':nft_address[nft],'order_by':'sale_price','limit':'10'})\n",
    "        response.raise_for_status()\n",
    "    except HTTPError as http_err:\n",
    "        print(f'HTTP error occurred: {http_err}') \n",
    "    except KeyError as key_err:\n",
    "        print(f'Key error occurred: {key_err}') \n",
    "    else:\n",
    "        nft_response=response.json()\n",
    "        return nft_response['assets']"
   ],
   "outputs": [],
   "metadata": {}
  },
  {
   "cell_type": "code",
   "execution_count": 41,
   "source": [
    "def write_json(object,nft):\n",
    "    with open(f'/home/roger/SB/Capstone/NFT_ETH_pipeline/Data/Ingestion/{nft}', 'w') as json_file:\n",
    "        json.dump(object,json_file)\n",
    "    return"
   ],
   "outputs": [],
   "metadata": {}
  },
  {
   "cell_type": "code",
   "execution_count": null,
   "source": [
    "nft_asset=Opensea_NFT_call('Doodles')\n"
   ],
   "outputs": [],
   "metadata": {}
  },
  {
   "cell_type": "code",
   "execution_count": 42,
   "source": [
    "write_json(nft_asset,'Doodles')"
   ],
   "outputs": [],
   "metadata": {}
  },
  {
   "cell_type": "code",
   "execution_count": null,
   "source": [],
   "outputs": [],
   "metadata": {}
  }
 ],
 "metadata": {
  "orig_nbformat": 4,
  "language_info": {
   "name": "python",
   "version": "3.8.8",
   "mimetype": "text/x-python",
   "codemirror_mode": {
    "name": "ipython",
    "version": 3
   },
   "pygments_lexer": "ipython3",
   "nbconvert_exporter": "python",
   "file_extension": ".py"
  },
  "kernelspec": {
   "name": "python3",
   "display_name": "Python 3.8.8 64-bit ('base': conda)"
  },
  "interpreter": {
   "hash": "130677d53f9d9c005597b4a5ffdfc05a13adc24155f87011c93166abe676c0fb"
  }
 },
 "nbformat": 4,
 "nbformat_minor": 2
}